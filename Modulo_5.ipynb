{
 "cells": [
  {
   "cell_type": "markdown",
   "metadata": {},
   "source": [
    "# Ejercicio1 - Utilizar operadores aritméticos #\n"
   ]
  },
  {
   "cell_type": "code",
   "execution_count": null,
   "metadata": {},
   "outputs": [],
   "source": [
    "# Crear variables para almacenar las dos distancias\n",
    "# ¡Asegúrate de quitar las comas!\n",
    "\n",
    "# Datos en km\n",
    "\n",
    "Tierra = 149597870\n",
    "Jupiter = 778547200\n",
    "\n",
    "DistanciaKM = abs(Tierra - Jupiter)\n",
    "\n",
    "\n",
    "DistanciaMI = DistanciaKM * 0.621\n",
    "\n",
    "print(f\"\"\"Distancia en km: {DistanciaKM}\n",
    "Distancia en millas: {DistanciaMI}\"\"\")"
   ]
  },
  {
   "cell_type": "markdown",
   "metadata": {},
   "source": [
    "# Ejercicio 2 #\n"
   ]
  },
  {
   "cell_type": "code",
   "execution_count": 23,
   "metadata": {},
   "outputs": [],
   "source": [
    "# Almacenar las entradas del usuario\n",
    "\n",
    "Planeta_1 = input(\"Introduzca la distancia del sol para el primer planeta\")\n",
    "Planeta_2 = input(\"Introduzca la distancia del sol para el segundo planeta\")"
   ]
  },
  {
   "cell_type": "code",
   "execution_count": null,
   "metadata": {},
   "outputs": [],
   "source": [
    "# Convirtiendo las cadenas a numeros enteros\n",
    "\n",
    "Planeta_1 = int(Planeta_1)\n",
    "Planeta_2 = int(Planeta_2)"
   ]
  },
  {
   "cell_type": "code",
   "execution_count": null,
   "metadata": {},
   "outputs": [],
   "source": [
    "# Calculando la distancia entre los planetas y pasando de kilometros a millas \n",
    "\n",
    "Distancia = abs(Planeta_1 - Planeta_2) * 0.621"
   ]
  }
 ],
 "metadata": {
  "interpreter": {
   "hash": "e9a284595d7bc5bf6804ecb235192e792040141a5f2158692e25011b6a2c3802"
  },
  "kernelspec": {
   "display_name": "Python 3.9.5 64-bit",
   "language": "python",
   "name": "python3"
  },
  "language_info": {
   "codemirror_mode": {
    "name": "ipython",
    "version": 3
   },
   "file_extension": ".py",
   "mimetype": "text/x-python",
   "name": "python",
   "nbconvert_exporter": "python",
   "pygments_lexer": "ipython3",
   "version": "3.9.5"
  },
  "orig_nbformat": 4
 },
 "nbformat": 4,
 "nbformat_minor": 2
}
