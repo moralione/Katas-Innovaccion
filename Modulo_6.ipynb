{
 "cells": [
  {
   "cell_type": "markdown",
   "metadata": {},
   "source": [
    "# Ejercicio1: Crear y usar listas de Python #\n",
    "\n"
   ]
  },
  {
   "cell_type": "code",
   "execution_count": 27,
   "metadata": {},
   "outputs": [],
   "source": [
    "#Creando lista de planetas\n",
    "\n",
    "planetas = ['Mercurio', 'Venus', 'Tierra', 'Marte', 'Jupiter', 'Saturno', 'Urano', 'Neptuno']"
   ]
  },
  {
   "cell_type": "code",
   "execution_count": 28,
   "metadata": {},
   "outputs": [
    {
     "name": "stdout",
     "output_type": "stream",
     "text": [
      "El numero de planetas es: 9\n",
      "El ultimo planeta es Pluton\n"
     ]
    }
   ],
   "source": [
    "#Añadiendo pluton a lista de planetas e imprimiendo el numero de planetas y el ultimo planeta\n",
    "\n",
    "planetas.append(\"Pluton\")\n",
    "\n",
    "print(f\"El numero de planetas es: {len(planetas)}\\nEl ultimo planeta es {planetas[-1]}\")"
   ]
  },
  {
   "cell_type": "markdown",
   "metadata": {},
   "source": [
    "# Ejercicio 2: Trabajando con datos de una lista #\n"
   ]
  },
  {
   "cell_type": "code",
   "execution_count": 29,
   "metadata": {},
   "outputs": [],
   "source": [
    "# Lista de planetas\n",
    "planets = ['Mercury', 'Venus', 'Earth', 'Mars', 'Jupiter', 'Saturn', 'Neptune']"
   ]
  },
  {
   "cell_type": "code",
   "execution_count": 30,
   "metadata": {},
   "outputs": [
    {
     "data": {
      "text/plain": [
       "'Venus'"
      ]
     },
     "execution_count": 30,
     "metadata": {},
     "output_type": "execute_result"
    }
   ],
   "source": [
    "# Pidiendo al usuario el nombre de un planeta\n",
    "\n",
    "planeta = input(\"Introduzca el nombre de un planeta\")\n",
    "\n",
    "planeta = planeta.capitalize()"
   ]
  },
  {
   "cell_type": "code",
   "execution_count": 31,
   "metadata": {},
   "outputs": [
    {
     "data": {
      "text/plain": [
       "1"
      ]
     },
     "execution_count": 31,
     "metadata": {},
     "output_type": "execute_result"
    }
   ],
   "source": [
    "#Buscando el indice del planeta introducido por el usuario\n",
    "\n",
    "index_planeta = planets.index(planeta)"
   ]
  },
  {
   "cell_type": "code",
   "execution_count": 33,
   "metadata": {},
   "outputs": [
    {
     "name": "stdout",
     "output_type": "stream",
     "text": [
      "Los planetas mas cercanos al sol con respecto a Venus son: ['Mercurio']\n"
     ]
    }
   ],
   "source": [
    "# Mostrando los planetas que esten más cerca del sol con respecto al planeta escogido\n",
    "\n",
    "print(f\"Los planetas mas cercanos al sol con respecto a {planetas[index_planeta]} son: {planetas[0:index_planeta]}\")"
   ]
  },
  {
   "cell_type": "code",
   "execution_count": 36,
   "metadata": {},
   "outputs": [
    {
     "name": "stdout",
     "output_type": "stream",
     "text": [
      "Los planetas mas cercanos al sol con respecto a Venus son: ['Tierra', 'Marte', 'Jupiter', 'Saturno', 'Urano', 'Neptuno', 'Pluton']\n"
     ]
    }
   ],
   "source": [
    "# Mostrando los planetas que esten más lejos del sol con respecto al planeta escogido\n",
    "\n",
    "print(f\"Los planetas mas cercanos al sol con respecto a {planetas[index_planeta]} son: {planetas[index_planeta + 1:]}\")"
   ]
  }
 ],
 "metadata": {
  "interpreter": {
   "hash": "e9a284595d7bc5bf6804ecb235192e792040141a5f2158692e25011b6a2c3802"
  },
  "kernelspec": {
   "display_name": "Python 3.9.5 64-bit",
   "language": "python",
   "name": "python3"
  },
  "language_info": {
   "codemirror_mode": {
    "name": "ipython",
    "version": 3
   },
   "file_extension": ".py",
   "mimetype": "text/x-python",
   "name": "python",
   "nbconvert_exporter": "python",
   "pygments_lexer": "ipython3",
   "version": "3.9.5"
  },
  "orig_nbformat": 4
 },
 "nbformat": 4,
 "nbformat_minor": 2
}
