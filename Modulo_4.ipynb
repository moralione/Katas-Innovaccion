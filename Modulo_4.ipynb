{
 "cells": [
  {
   "cell_type": "markdown",
   "metadata": {},
   "source": [
    "## Ejercicio 1: Transformar cadenas ##\n"
   ]
  },
  {
   "cell_type": "code",
   "execution_count": 2,
   "metadata": {},
   "outputs": [
    {
     "data": {
      "text/plain": [
       "\"Interesting facts about the Moon. The Moon is Earth's only satellite. There are several interesting facts about the Moon and how it affects life here on Earth. On average, the Moon moves 4cm away from the Earth every year. This yearly drift is not significant enough to cause immediate effects on Earth. The highest daylight temperature of the Moon is 127 C.\""
      ]
     },
     "execution_count": 2,
     "metadata": {},
     "output_type": "execute_result"
    }
   ],
   "source": [
    "text = \"\"\"Interesting facts about the Moon. The Moon is Earth's only satellite. There are several interesting facts about the Moon and how it affects life here on Earth. On average, the Moon moves 4cm away from the Earth every year. This yearly drift is not significant enough to cause immediate effects on Earth. The highest daylight temperature of the Moon is 127 C.\"\"\""
   ]
  },
  {
   "cell_type": "code",
   "execution_count": 17,
   "metadata": {},
   "outputs": [
    {
     "name": "stdout",
     "output_type": "stream",
     "text": [
      " On average, the Moon moves 4cm away from the Earth every year\n",
      " The highest daylight temperature of the Moon is 127 C\n",
      " The highest daylight temperature of the Moon is 127 Celsius\n"
     ]
    }
   ],
   "source": [
    "textoDividido = text.split('.')\n",
    "\n",
    "# Recorriendo la cadena para filtrar los datos deseados\n",
    "\n",
    "palabrasClave = [\"average\", \"temperature\", \"distance\"]\n",
    "\n",
    "# Recorriendo la cadena para filtrar los datos deseados\n",
    "\n",
    "for linea in textoDividido:\n",
    "    for palabraClave in palabrasClave:\n",
    "        if palabraClave in linea:\n",
    "            print(linea)\n",
    "            break\n",
    "\n",
    "# Recorriendo la cadena para encontrar \"C\" y reemplazarlo por \"Celsius\"\n",
    "\n",
    "c = [\"C\"]\n",
    "\n",
    "for linea in textoDividido:\n",
    "    for palabraClave in c:\n",
    "        if palabraClave in linea:\n",
    "            print(linea.replace('C', 'Celsius'))\n",
    "            break\n",
    "\n",
    "\n",
    "\n"
   ]
  },
  {
   "cell_type": "markdown",
   "metadata": {},
   "source": [
    "## Ejercicio 2: Formateando Cadenas ##"
   ]
  },
  {
   "cell_type": "markdown",
   "metadata": {},
   "source": []
  },
  {
   "cell_type": "code",
   "execution_count": 29,
   "metadata": {},
   "outputs": [
    {
     "name": "stdout",
     "output_type": "stream",
     "text": [
      "Gravity Facts About Moon\n",
      "-------------------------\n",
      "Planet name: Earth \n",
      "Gravity on Moon: 16.2 m/s2\n"
     ]
    }
   ],
   "source": [
    "# Datos con los que vas a trabajar\n",
    "name = \"Moon\"\n",
    "gravity = 0.00162 # in kms\n",
    "planet = \"Earth\"\n",
    "\n",
    "# Declarando el titulo\n",
    "\n",
    "titulo = f\"Gravity facts about {name}\"\n",
    "\n",
    "# Creamos la plantilla\n",
    "\n",
    "plantilla = f\"{'-'*25}\\nPlanet name: {planet} \\nGravity on {name}: {gravity * 10000} m/s2\"\n",
    "\n",
    "## Uniendo las plantillas\n",
    "\n",
    "Final = f\"{titulo.title()}\\n{plantilla}\"\n",
    "\n",
    "print(Final)"
   ]
  }
 ],
 "metadata": {
  "interpreter": {
   "hash": "e9a284595d7bc5bf6804ecb235192e792040141a5f2158692e25011b6a2c3802"
  },
  "kernelspec": {
   "display_name": "Python 3.9.5 64-bit",
   "language": "python",
   "name": "python3"
  },
  "language_info": {
   "codemirror_mode": {
    "name": "ipython",
    "version": 3
   },
   "file_extension": ".py",
   "mimetype": "text/x-python",
   "name": "python",
   "nbconvert_exporter": "python",
   "pygments_lexer": "ipython3",
   "version": "3.9.5"
  },
  "orig_nbformat": 4
 },
 "nbformat": 4,
 "nbformat_minor": 2
}
