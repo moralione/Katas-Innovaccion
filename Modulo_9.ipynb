{
 "cells": [
  {
   "cell_type": "markdown",
   "metadata": {},
   "source": [
    "## Ejercicio 1 ##"
   ]
  },
  {
   "cell_type": "code",
   "execution_count": 33,
   "metadata": {},
   "outputs": [],
   "source": [
    "# Funcion generar reporte\n",
    "\n",
    "def generate_report(tanque_1, tanque_2, tanque_3):\n",
    "    promedio = (tanque_1 + tanque_2 + tanque_3) / 3\n",
    "    return f\"Informe de combustible:\\n Tanque 1: {tanque_1}%\\n Tanque 2: {tanque_2}%\\n Tanque 3: {tanque_3}%\\n Promedio de los tanques: {promedio}%\""
   ]
  },
  {
   "cell_type": "code",
   "execution_count": 34,
   "metadata": {},
   "outputs": [
    {
     "name": "stdout",
     "output_type": "stream",
     "text": [
      "Informe de combustible:\n",
      " Tanque 1: 80%\n",
      " Tanque 2: 70%\n",
      " Tanque 3: 85%\n",
      " Promedio de los tanques: 78.33333333333333%\n"
     ]
    }
   ],
   "source": [
    "# Llamando a la funcion\n",
    "\n",
    "print(generate_report(80, 70, 85))"
   ]
  },
  {
   "cell_type": "code",
   "execution_count": 35,
   "metadata": {},
   "outputs": [
    {
     "data": {
      "text/plain": [
       "82.0"
      ]
     },
     "execution_count": 35,
     "metadata": {},
     "output_type": "execute_result"
    }
   ],
   "source": [
    "# Funcion promedio\n",
    "\n",
    "def average(arrayTanques):\n",
    "    suma = sum(arrayTanques)\n",
    "    promedio = suma / len(arrayTanques)\n",
    "    return promedio\n",
    "\n",
    "average([80, 85, 81]) "
   ]
  },
  {
   "cell_type": "code",
   "execution_count": 36,
   "metadata": {},
   "outputs": [
    {
     "name": "stdout",
     "output_type": "stream",
     "text": [
      "Informe de combustible:\n",
      " Tanque 1: 88%\n",
      " Tanque 2: 76%\n",
      " Tanque 3: 70%\n",
      " Promedio de los tanques: 78.0%\n"
     ]
    }
   ],
   "source": [
    "# Actualizando la funcion generar reporte y mandando como un array para que sea un solo objeto los datos a la funcion promedio\n",
    "\n",
    "def generate_report(tanque_1, tanque_2, tanque_3):\n",
    "    promedio = average([tanque_1, tanque_2, tanque_3])\n",
    "    return f\"Informe de combustible:\\n Tanque 1: {tanque_1}%\\n Tanque 2: {tanque_2}%\\n Tanque 3: {tanque_3}%\\n Promedio de los tanques: {promedio}%\"\n",
    "    \n",
    "# Comprobando la funcion\n",
    "\n",
    "print(generate_report(88, 76, 70))"
   ]
  },
  {
   "cell_type": "markdown",
   "metadata": {},
   "source": [
    "## Ejercicio 2 ##"
   ]
  },
  {
   "cell_type": "code",
   "execution_count": 37,
   "metadata": {},
   "outputs": [],
   "source": [
    "def informe_cohete(hora_prelanzamiento, tiempo_vuelo, destino, tanque_externo, tanque_interno):\n",
    "    return f\"Informe de cohete\\nTiempo total de vuelo: {hora_prelanzamiento + tiempo_vuelo}\\nDestino: {destino} \\nCombustible total: {tanque_externo + tanque_interno}\""
   ]
  },
  {
   "cell_type": "code",
   "execution_count": 38,
   "metadata": {},
   "outputs": [],
   "source": [
    "# Escribe tu nueva función de reporte considerando lo anterior\n",
    "\n",
    "def mission_report(destino, *minutes, **fuel_reservoirs):\n",
    "    reporte = f\"Informe de cohete\\nTiempo total de vuelo: {sum(minutes)}\\nDestino: {destino} \\nCombustible total: {sum(fuel_reservoirs.values())}\"\n",
    "    return reporte"
   ]
  },
  {
   "cell_type": "code",
   "execution_count": 39,
   "metadata": {},
   "outputs": [],
   "source": [
    "# Escribe tu nueva función de reporte considerando lo anterior\n",
    "\n",
    "def mission_report(destino, *minutes, **fuel_reservoirs):\n",
    "    reporte = f\"Informe de cohete\\nTiempo total de vuelo: {sum(minutes)}\\nDestino: {destino} \\nCombustible total: {sum(fuel_reservoirs.values())}\\n\"\n",
    "    \n",
    "    for tanque, gasolina in fuel_reservoirs.items():\n",
    "        reporte += f\"{tanque.capitalize()} = {gasolina}\\n\"\n",
    "\n",
    "    return reporte"
   ]
  }
 ],
 "metadata": {
  "interpreter": {
   "hash": "e9a284595d7bc5bf6804ecb235192e792040141a5f2158692e25011b6a2c3802"
  },
  "kernelspec": {
   "display_name": "Python 3.9.5 64-bit",
   "language": "python",
   "name": "python3"
  },
  "language_info": {
   "codemirror_mode": {
    "name": "ipython",
    "version": 3
   },
   "file_extension": ".py",
   "mimetype": "text/x-python",
   "name": "python",
   "nbconvert_exporter": "python",
   "pygments_lexer": "ipython3",
   "version": "3.9.5"
  },
  "orig_nbformat": 4
 },
 "nbformat": 4,
 "nbformat_minor": 2
}
